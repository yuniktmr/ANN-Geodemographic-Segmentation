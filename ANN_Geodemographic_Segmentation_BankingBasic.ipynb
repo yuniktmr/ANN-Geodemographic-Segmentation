{
  "nbformat": 4,
  "nbformat_minor": 0,
  "metadata": {
    "colab": {
      "name": "ANN_Geodemographic_Segmentation_BankingBasic.ipynb",
      "provenance": []
    },
    "kernelspec": {
      "name": "python3",
      "display_name": "Python 3"
    }
  },
  "cells": [
    {
      "cell_type": "markdown",
      "metadata": {
        "id": "7nglDsCpjWij",
        "colab_type": "text"
      },
      "source": [
        "Import the libraries for pre-processing"
      ]
    },
    {
      "cell_type": "code",
      "metadata": {
        "id": "ogoBuf69jaDc",
        "colab_type": "code",
        "colab": {}
      },
      "source": [
        "import numpy as np\n",
        "import matplotlib.pyplot as plt\n",
        "import pandas as pd\n",
        "import tensorflow as tf"
      ],
      "execution_count": 3,
      "outputs": []
    },
    {
      "cell_type": "code",
      "metadata": {
        "id": "urlCxYkOj2g1",
        "colab_type": "code",
        "colab": {
          "base_uri": "https://localhost:8080/",
          "height": 35
        },
        "outputId": "37628a5f-5842-42b9-9237-8e1e0c6a4fd6"
      },
      "source": [
        "tf.__version__"
      ],
      "execution_count": 4,
      "outputs": [
        {
          "output_type": "execute_result",
          "data": {
            "application/vnd.google.colaboratory.intrinsic+json": {
              "type": "string"
            },
            "text/plain": [
              "'2.3.0'"
            ]
          },
          "metadata": {
            "tags": []
          },
          "execution_count": 4
        }
      ]
    },
    {
      "cell_type": "markdown",
      "metadata": {
        "id": "GcN64PxYjWfY",
        "colab_type": "text"
      },
      "source": [
        "Data preprocessing"
      ]
    },
    {
      "cell_type": "code",
      "metadata": {
        "id": "tUxWV-_zkrFn",
        "colab_type": "code",
        "colab": {
          "base_uri": "https://localhost:8080/",
          "height": 134
        },
        "outputId": "a2b8ca13-94fc-4617-ca47-5d159dc1171e"
      },
      "source": [
        "dataset = pd.read_csv('Churn_Modelling.csv')\n",
        "X = dataset.iloc[:,3:-1].values\n",
        "Y = dataset.iloc[:,-1].values\n",
        "print(X)"
      ],
      "execution_count": 10,
      "outputs": [
        {
          "output_type": "stream",
          "text": [
            "[[619 'France' 'Female' ... 1 1 101348.88]\n",
            " [608 'Spain' 'Female' ... 0 1 112542.58]\n",
            " [502 'France' 'Female' ... 1 0 113931.57]\n",
            " ...\n",
            " [709 'France' 'Female' ... 0 1 42085.58]\n",
            " [772 'Germany' 'Male' ... 1 0 92888.52]\n",
            " [792 'France' 'Female' ... 1 0 38190.78]]\n"
          ],
          "name": "stdout"
        }
      ]
    },
    {
      "cell_type": "markdown",
      "metadata": {
        "id": "cqYsq5hD1p10",
        "colab_type": "text"
      },
      "source": [
        "Impute missing data"
      ]
    },
    {
      "cell_type": "code",
      "metadata": {
        "id": "Zw0rJxGf1veT",
        "colab_type": "code",
        "colab": {}
      },
      "source": [
        "from sklearn.impute import SimpleImputer\n",
        "imputer = SimpleImputer(missing_values = np.nan, strategy='mean')\n",
        "imputer.fit(X[:,1:3])\n",
        "X[:,1:3] = imputer.transform(X[:,1:3])\n"
      ],
      "execution_count": null,
      "outputs": []
    },
    {
      "cell_type": "markdown",
      "metadata": {
        "id": "tsI69tKA1SUF",
        "colab_type": "text"
      },
      "source": [
        "Encode Categorical Data"
      ]
    },
    {
      "cell_type": "code",
      "metadata": {
        "id": "m31GZHxC1U6G",
        "colab_type": "code",
        "colab": {
          "base_uri": "https://localhost:8080/",
          "height": 134
        },
        "outputId": "f65eb667-8c9a-4f63-fced-ec42626995fa"
      },
      "source": [
        "from sklearn.preprocessing import LabelEncoder\n",
        "le = LabelEncoder()\n",
        "X[:,2] = le.fit_transform(X[:,2])\n",
        "print(X)"
      ],
      "execution_count": 12,
      "outputs": [
        {
          "output_type": "stream",
          "text": [
            "[[619 'France' 0 ... 1 1 101348.88]\n",
            " [608 'Spain' 0 ... 0 1 112542.58]\n",
            " [502 'France' 0 ... 1 0 113931.57]\n",
            " ...\n",
            " [709 'France' 0 ... 0 1 42085.58]\n",
            " [772 'Germany' 1 ... 1 0 92888.52]\n",
            " [792 'France' 0 ... 1 0 38190.78]]\n"
          ],
          "name": "stdout"
        }
      ]
    },
    {
      "cell_type": "markdown",
      "metadata": {
        "id": "5S3uv_dg6FdD",
        "colab_type": "text"
      },
      "source": [
        "One hot encoding non-related data"
      ]
    },
    {
      "cell_type": "code",
      "metadata": {
        "id": "AMXC8-KMVirw",
        "colab_type": "code",
        "colab": {}
      },
      "source": [
        "from sklearn.compose import ColumnTransformer\n",
        "from sklearn.preprocessing import OneHotEncoder\n",
        "ct = ColumnTransformer(transformers=[('encoder', OneHotEncoder(), [1])], remainder='passthrough')\n",
        "X = np.array(ct.fit_transform(X))"
      ],
      "execution_count": 14,
      "outputs": []
    },
    {
      "cell_type": "code",
      "metadata": {
        "id": "pyh81OwZ7mYb",
        "colab_type": "code",
        "colab": {
          "base_uri": "https://localhost:8080/",
          "height": 134
        },
        "outputId": "541b10cf-cdbd-4fc3-8eae-407956ddfd61"
      },
      "source": [
        "print(X)"
      ],
      "execution_count": 15,
      "outputs": [
        {
          "output_type": "stream",
          "text": [
            "[[1.0 0.0 0.0 ... 1 1 101348.88]\n",
            " [0.0 0.0 1.0 ... 0 1 112542.58]\n",
            " [1.0 0.0 0.0 ... 1 0 113931.57]\n",
            " ...\n",
            " [1.0 0.0 0.0 ... 0 1 42085.58]\n",
            " [0.0 1.0 0.0 ... 1 0 92888.52]\n",
            " [1.0 0.0 0.0 ... 1 0 38190.78]]\n"
          ],
          "name": "stdout"
        }
      ]
    },
    {
      "cell_type": "markdown",
      "metadata": {
        "id": "raC2eJUg8H-N",
        "colab_type": "text"
      },
      "source": [
        "Split the data into training and test data set"
      ]
    },
    {
      "cell_type": "code",
      "metadata": {
        "id": "eICLZP4L8OFL",
        "colab_type": "code",
        "colab": {}
      },
      "source": [
        "from sklearn.model_selection import train_test_split\n",
        "X_train, X_test, y_train, y_test = train_test_split(X,Y,test_size = 0.2, random_state=0) "
      ],
      "execution_count": 18,
      "outputs": []
    },
    {
      "cell_type": "markdown",
      "metadata": {
        "id": "z2K-D-OH9Tdz",
        "colab_type": "text"
      },
      "source": [
        "Feature Scaling"
      ]
    },
    {
      "cell_type": "code",
      "metadata": {
        "id": "gt0nOplt9VCN",
        "colab_type": "code",
        "colab": {}
      },
      "source": [
        "from sklearn.preprocessing import StandardScaler\n",
        "sc = StandardScaler()\n",
        "X_train = sc.fit_transform(X_train)\n",
        "X_test = sc.fit_transform(X_test)"
      ],
      "execution_count": 19,
      "outputs": []
    },
    {
      "cell_type": "markdown",
      "metadata": {
        "id": "r_kNOo6n_ApG",
        "colab_type": "text"
      },
      "source": [
        "**Build the ANN**"
      ]
    },
    {
      "cell_type": "markdown",
      "metadata": {
        "id": "8F3N6vqB_YT6",
        "colab_type": "text"
      },
      "source": [
        "Initialize the ANN"
      ]
    },
    {
      "cell_type": "code",
      "metadata": {
        "id": "mmgejxL4_bcD",
        "colab_type": "code",
        "colab": {}
      },
      "source": [
        "ann = tf.keras.models.Sequential()\n"
      ],
      "execution_count": 20,
      "outputs": []
    },
    {
      "cell_type": "markdown",
      "metadata": {
        "id": "Q5IPcg1_AMfj",
        "colab_type": "text"
      },
      "source": [
        "Add input layer and first hidden layer"
      ]
    },
    {
      "cell_type": "code",
      "metadata": {
        "id": "tPXBqXrxAKz0",
        "colab_type": "code",
        "colab": {}
      },
      "source": [
        "ann.add(tf.keras.layers.Dense(units=6,activation='relu'))"
      ],
      "execution_count": 21,
      "outputs": []
    },
    {
      "cell_type": "markdown",
      "metadata": {
        "id": "9eYQfS9nBpC0",
        "colab_type": "text"
      },
      "source": [
        "Add second hidden layer"
      ]
    },
    {
      "cell_type": "code",
      "metadata": {
        "colab_type": "code",
        "id": "4ZJtcDAzBuLA",
        "colab": {}
      },
      "source": [
        "ann.add(tf.keras.layers.Dense(units=6,activation='relu'))"
      ],
      "execution_count": 22,
      "outputs": []
    },
    {
      "cell_type": "markdown",
      "metadata": {
        "id": "hFlBvtk4B8St",
        "colab_type": "text"
      },
      "source": [
        "Add Output Layer"
      ]
    },
    {
      "cell_type": "code",
      "metadata": {
        "colab_type": "code",
        "id": "jfZurxJXB_Kv",
        "colab": {}
      },
      "source": [
        "ann.add(tf.keras.layers.Dense(units=1,activation='sigmoid'))\n"
      ],
      "execution_count": 23,
      "outputs": []
    },
    {
      "cell_type": "markdown",
      "metadata": {
        "id": "2e8gO_9eDLLd",
        "colab_type": "text"
      },
      "source": [
        "**Training the ANN**"
      ]
    },
    {
      "cell_type": "markdown",
      "metadata": {
        "id": "NOMEDAMQDPJj",
        "colab_type": "text"
      },
      "source": [
        "Compile the ANN"
      ]
    },
    {
      "cell_type": "code",
      "metadata": {
        "id": "vidY1UbHDyWD",
        "colab_type": "code",
        "colab": {}
      },
      "source": [
        "ann.compile(optimizer = 'adam', loss = 'binary_crossentropy', metrics = ['accuracy'])"
      ],
      "execution_count": 24,
      "outputs": []
    },
    {
      "cell_type": "markdown",
      "metadata": {
        "id": "zeA2PmhGFuNu",
        "colab_type": "text"
      },
      "source": [
        "Traning the ANN on the training set"
      ]
    },
    {
      "cell_type": "code",
      "metadata": {
        "id": "b8S-GHlVFxpr",
        "colab_type": "code",
        "colab": {
          "base_uri": "https://localhost:8080/",
          "height": 1000
        },
        "outputId": "8b74cf1f-b947-4945-abbd-6011f8de714b"
      },
      "source": [
        "ann.fit(X_train, y_train, batch_size = 32, epochs = 100)"
      ],
      "execution_count": 25,
      "outputs": [
        {
          "output_type": "stream",
          "text": [
            "Epoch 1/100\n",
            "250/250 [==============================] - 0s 894us/step - loss: 0.5516 - accuracy: 0.7951\n",
            "Epoch 2/100\n",
            "250/250 [==============================] - 0s 953us/step - loss: 0.4961 - accuracy: 0.7960\n",
            "Epoch 3/100\n",
            "250/250 [==============================] - 0s 896us/step - loss: 0.4747 - accuracy: 0.7960\n",
            "Epoch 4/100\n",
            "250/250 [==============================] - 0s 907us/step - loss: 0.4602 - accuracy: 0.7960\n",
            "Epoch 5/100\n",
            "250/250 [==============================] - 0s 905us/step - loss: 0.4487 - accuracy: 0.7960\n",
            "Epoch 6/100\n",
            "250/250 [==============================] - 0s 888us/step - loss: 0.4392 - accuracy: 0.7960\n",
            "Epoch 7/100\n",
            "250/250 [==============================] - 0s 883us/step - loss: 0.4326 - accuracy: 0.7960\n",
            "Epoch 8/100\n",
            "250/250 [==============================] - 0s 869us/step - loss: 0.4274 - accuracy: 0.7972\n",
            "Epoch 9/100\n",
            "250/250 [==============================] - 0s 916us/step - loss: 0.4229 - accuracy: 0.8141\n",
            "Epoch 10/100\n",
            "250/250 [==============================] - 0s 927us/step - loss: 0.4194 - accuracy: 0.8210\n",
            "Epoch 11/100\n",
            "250/250 [==============================] - 0s 879us/step - loss: 0.4159 - accuracy: 0.8267\n",
            "Epoch 12/100\n",
            "250/250 [==============================] - 0s 867us/step - loss: 0.4132 - accuracy: 0.8286\n",
            "Epoch 13/100\n",
            "250/250 [==============================] - 0s 992us/step - loss: 0.4110 - accuracy: 0.8295\n",
            "Epoch 14/100\n",
            "250/250 [==============================] - 0s 925us/step - loss: 0.4089 - accuracy: 0.8305\n",
            "Epoch 15/100\n",
            "250/250 [==============================] - 0s 897us/step - loss: 0.4072 - accuracy: 0.8304\n",
            "Epoch 16/100\n",
            "250/250 [==============================] - 0s 890us/step - loss: 0.4054 - accuracy: 0.8310\n",
            "Epoch 17/100\n",
            "250/250 [==============================] - 0s 956us/step - loss: 0.4037 - accuracy: 0.8309\n",
            "Epoch 18/100\n",
            "250/250 [==============================] - 0s 998us/step - loss: 0.4026 - accuracy: 0.8336\n",
            "Epoch 19/100\n",
            "250/250 [==============================] - 0s 975us/step - loss: 0.4014 - accuracy: 0.8332\n",
            "Epoch 20/100\n",
            "250/250 [==============================] - 0s 954us/step - loss: 0.4005 - accuracy: 0.8334\n",
            "Epoch 21/100\n",
            "250/250 [==============================] - 0s 965us/step - loss: 0.3993 - accuracy: 0.8331\n",
            "Epoch 22/100\n",
            "250/250 [==============================] - 0s 984us/step - loss: 0.3984 - accuracy: 0.8350\n",
            "Epoch 23/100\n",
            "250/250 [==============================] - 0s 1ms/step - loss: 0.3976 - accuracy: 0.8328\n",
            "Epoch 24/100\n",
            "250/250 [==============================] - 0s 955us/step - loss: 0.3968 - accuracy: 0.8339\n",
            "Epoch 25/100\n",
            "250/250 [==============================] - 0s 954us/step - loss: 0.3962 - accuracy: 0.8340\n",
            "Epoch 26/100\n",
            "250/250 [==============================] - 0s 1ms/step - loss: 0.3954 - accuracy: 0.8361\n",
            "Epoch 27/100\n",
            "250/250 [==============================] - 0s 971us/step - loss: 0.3950 - accuracy: 0.8342\n",
            "Epoch 28/100\n",
            "250/250 [==============================] - 0s 940us/step - loss: 0.3942 - accuracy: 0.8372\n",
            "Epoch 29/100\n",
            "250/250 [==============================] - 0s 951us/step - loss: 0.3936 - accuracy: 0.8371\n",
            "Epoch 30/100\n",
            "250/250 [==============================] - 0s 986us/step - loss: 0.3934 - accuracy: 0.8374\n",
            "Epoch 31/100\n",
            "250/250 [==============================] - 0s 1ms/step - loss: 0.3926 - accuracy: 0.8395\n",
            "Epoch 32/100\n",
            "250/250 [==============================] - 0s 954us/step - loss: 0.3919 - accuracy: 0.8401\n",
            "Epoch 33/100\n",
            "250/250 [==============================] - 0s 946us/step - loss: 0.3914 - accuracy: 0.8400\n",
            "Epoch 34/100\n",
            "250/250 [==============================] - 0s 977us/step - loss: 0.3905 - accuracy: 0.8399\n",
            "Epoch 35/100\n",
            "250/250 [==============================] - 0s 951us/step - loss: 0.3899 - accuracy: 0.8395\n",
            "Epoch 36/100\n",
            "250/250 [==============================] - 0s 947us/step - loss: 0.3891 - accuracy: 0.8396\n",
            "Epoch 37/100\n",
            "250/250 [==============================] - 0s 962us/step - loss: 0.3882 - accuracy: 0.8407\n",
            "Epoch 38/100\n",
            "250/250 [==============================] - 0s 918us/step - loss: 0.3871 - accuracy: 0.8410\n",
            "Epoch 39/100\n",
            "250/250 [==============================] - 0s 895us/step - loss: 0.3852 - accuracy: 0.8416\n",
            "Epoch 40/100\n",
            "250/250 [==============================] - 0s 873us/step - loss: 0.3827 - accuracy: 0.8421\n",
            "Epoch 41/100\n",
            "250/250 [==============================] - 0s 892us/step - loss: 0.3799 - accuracy: 0.8439\n",
            "Epoch 42/100\n",
            "250/250 [==============================] - 0s 878us/step - loss: 0.3763 - accuracy: 0.8457\n",
            "Epoch 43/100\n",
            "250/250 [==============================] - 0s 946us/step - loss: 0.3723 - accuracy: 0.8491\n",
            "Epoch 44/100\n",
            "250/250 [==============================] - 0s 886us/step - loss: 0.3684 - accuracy: 0.8514\n",
            "Epoch 45/100\n",
            "250/250 [==============================] - 0s 917us/step - loss: 0.3647 - accuracy: 0.8526\n",
            "Epoch 46/100\n",
            "250/250 [==============================] - 0s 876us/step - loss: 0.3616 - accuracy: 0.8544\n",
            "Epoch 47/100\n",
            "250/250 [==============================] - 0s 884us/step - loss: 0.3582 - accuracy: 0.8546\n",
            "Epoch 48/100\n",
            "250/250 [==============================] - 0s 927us/step - loss: 0.3552 - accuracy: 0.8570\n",
            "Epoch 49/100\n",
            "250/250 [==============================] - 0s 877us/step - loss: 0.3514 - accuracy: 0.8584\n",
            "Epoch 50/100\n",
            "250/250 [==============================] - 0s 881us/step - loss: 0.3483 - accuracy: 0.8596\n",
            "Epoch 51/100\n",
            "250/250 [==============================] - 0s 966us/step - loss: 0.3452 - accuracy: 0.8587\n",
            "Epoch 52/100\n",
            "250/250 [==============================] - 0s 909us/step - loss: 0.3432 - accuracy: 0.8583\n",
            "Epoch 53/100\n",
            "250/250 [==============================] - 0s 914us/step - loss: 0.3418 - accuracy: 0.8600\n",
            "Epoch 54/100\n",
            "250/250 [==============================] - 0s 907us/step - loss: 0.3404 - accuracy: 0.8610\n",
            "Epoch 55/100\n",
            "250/250 [==============================] - 0s 888us/step - loss: 0.3393 - accuracy: 0.8601\n",
            "Epoch 56/100\n",
            "250/250 [==============================] - 0s 917us/step - loss: 0.3384 - accuracy: 0.8618\n",
            "Epoch 57/100\n",
            "250/250 [==============================] - 0s 879us/step - loss: 0.3373 - accuracy: 0.8622\n",
            "Epoch 58/100\n",
            "250/250 [==============================] - 0s 857us/step - loss: 0.3369 - accuracy: 0.8614\n",
            "Epoch 59/100\n",
            "250/250 [==============================] - 0s 873us/step - loss: 0.3360 - accuracy: 0.8635\n",
            "Epoch 60/100\n",
            "250/250 [==============================] - 0s 906us/step - loss: 0.3356 - accuracy: 0.8615\n",
            "Epoch 61/100\n",
            "250/250 [==============================] - 0s 921us/step - loss: 0.3354 - accuracy: 0.8606\n",
            "Epoch 62/100\n",
            "250/250 [==============================] - 0s 883us/step - loss: 0.3350 - accuracy: 0.8629\n",
            "Epoch 63/100\n",
            "250/250 [==============================] - 0s 876us/step - loss: 0.3346 - accuracy: 0.8637\n",
            "Epoch 64/100\n",
            "250/250 [==============================] - 0s 911us/step - loss: 0.3344 - accuracy: 0.8624\n",
            "Epoch 65/100\n",
            "250/250 [==============================] - 0s 897us/step - loss: 0.3341 - accuracy: 0.8629\n",
            "Epoch 66/100\n",
            "250/250 [==============================] - 0s 879us/step - loss: 0.3342 - accuracy: 0.8616\n",
            "Epoch 67/100\n",
            "250/250 [==============================] - 0s 881us/step - loss: 0.3342 - accuracy: 0.8631\n",
            "Epoch 68/100\n",
            "250/250 [==============================] - 0s 886us/step - loss: 0.3341 - accuracy: 0.8624\n",
            "Epoch 69/100\n",
            "250/250 [==============================] - 0s 923us/step - loss: 0.3338 - accuracy: 0.8640\n",
            "Epoch 70/100\n",
            "250/250 [==============================] - 0s 900us/step - loss: 0.3336 - accuracy: 0.8631\n",
            "Epoch 71/100\n",
            "250/250 [==============================] - 0s 873us/step - loss: 0.3338 - accuracy: 0.8635\n",
            "Epoch 72/100\n",
            "250/250 [==============================] - 0s 898us/step - loss: 0.3335 - accuracy: 0.8634\n",
            "Epoch 73/100\n",
            "250/250 [==============================] - 0s 905us/step - loss: 0.3330 - accuracy: 0.8640\n",
            "Epoch 74/100\n",
            "250/250 [==============================] - 0s 904us/step - loss: 0.3333 - accuracy: 0.8641\n",
            "Epoch 75/100\n",
            "250/250 [==============================] - 0s 925us/step - loss: 0.3331 - accuracy: 0.8640\n",
            "Epoch 76/100\n",
            "250/250 [==============================] - 0s 885us/step - loss: 0.3330 - accuracy: 0.8634\n",
            "Epoch 77/100\n",
            "250/250 [==============================] - 0s 890us/step - loss: 0.3334 - accuracy: 0.8630\n",
            "Epoch 78/100\n",
            "250/250 [==============================] - 0s 955us/step - loss: 0.3330 - accuracy: 0.8630\n",
            "Epoch 79/100\n",
            "250/250 [==============================] - 0s 891us/step - loss: 0.3329 - accuracy: 0.8633\n",
            "Epoch 80/100\n",
            "250/250 [==============================] - 0s 896us/step - loss: 0.3331 - accuracy: 0.8645\n",
            "Epoch 81/100\n",
            "250/250 [==============================] - 0s 881us/step - loss: 0.3329 - accuracy: 0.8634\n",
            "Epoch 82/100\n",
            "250/250 [==============================] - 0s 919us/step - loss: 0.3327 - accuracy: 0.8631\n",
            "Epoch 83/100\n",
            "250/250 [==============================] - 0s 943us/step - loss: 0.3326 - accuracy: 0.8652\n",
            "Epoch 84/100\n",
            "250/250 [==============================] - 0s 884us/step - loss: 0.3328 - accuracy: 0.8629\n",
            "Epoch 85/100\n",
            "250/250 [==============================] - 0s 894us/step - loss: 0.3326 - accuracy: 0.8646\n",
            "Epoch 86/100\n",
            "250/250 [==============================] - 0s 901us/step - loss: 0.3328 - accuracy: 0.8631\n",
            "Epoch 87/100\n",
            "250/250 [==============================] - 0s 925us/step - loss: 0.3326 - accuracy: 0.8645\n",
            "Epoch 88/100\n",
            "250/250 [==============================] - 0s 843us/step - loss: 0.3326 - accuracy: 0.8636\n",
            "Epoch 89/100\n",
            "250/250 [==============================] - 0s 869us/step - loss: 0.3326 - accuracy: 0.8651\n",
            "Epoch 90/100\n",
            "250/250 [==============================] - 0s 859us/step - loss: 0.3323 - accuracy: 0.8644\n",
            "Epoch 91/100\n",
            "250/250 [==============================] - 0s 917us/step - loss: 0.3328 - accuracy: 0.8639\n",
            "Epoch 92/100\n",
            "250/250 [==============================] - 0s 971us/step - loss: 0.3321 - accuracy: 0.8648\n",
            "Epoch 93/100\n",
            "250/250 [==============================] - 0s 879us/step - loss: 0.3326 - accuracy: 0.8635\n",
            "Epoch 94/100\n",
            "250/250 [==============================] - 0s 853us/step - loss: 0.3322 - accuracy: 0.8644\n",
            "Epoch 95/100\n",
            "250/250 [==============================] - 0s 905us/step - loss: 0.3326 - accuracy: 0.8636\n",
            "Epoch 96/100\n",
            "250/250 [==============================] - 0s 932us/step - loss: 0.3322 - accuracy: 0.8650\n",
            "Epoch 97/100\n",
            "250/250 [==============================] - 0s 901us/step - loss: 0.3326 - accuracy: 0.8656\n",
            "Epoch 98/100\n",
            "250/250 [==============================] - 0s 888us/step - loss: 0.3322 - accuracy: 0.8661\n",
            "Epoch 99/100\n",
            "250/250 [==============================] - 0s 922us/step - loss: 0.3322 - accuracy: 0.8666\n",
            "Epoch 100/100\n",
            "250/250 [==============================] - 0s 918us/step - loss: 0.3325 - accuracy: 0.8645\n"
          ],
          "name": "stdout"
        },
        {
          "output_type": "execute_result",
          "data": {
            "text/plain": [
              "<tensorflow.python.keras.callbacks.History at 0x7f41bd904fd0>"
            ]
          },
          "metadata": {
            "tags": []
          },
          "execution_count": 25
        }
      ]
    },
    {
      "cell_type": "markdown",
      "metadata": {
        "id": "6r3vTa5dG9q6",
        "colab_type": "text"
      },
      "source": [
        "Inferences and Evaluation"
      ]
    },
    {
      "cell_type": "code",
      "metadata": {
        "id": "8r9APtijG-Cq",
        "colab_type": "code",
        "colab": {
          "base_uri": "https://localhost:8080/",
          "height": 34
        },
        "outputId": "87f4879b-508e-4cdf-e8a1-a2b96a77d2d8"
      },
      "source": [
        "print(ann.predict(sc.transform([[1, 0, 0, 600, 1, 40, 3, 6, 2, 1, 1, 50 ]])) > 0.5)"
      ],
      "execution_count": 31,
      "outputs": [
        {
          "output_type": "stream",
          "text": [
            "[[False]]\n"
          ],
          "name": "stdout"
        }
      ]
    },
    {
      "cell_type": "markdown",
      "metadata": {
        "id": "wHjonYwLKCo9",
        "colab_type": "text"
      },
      "source": [
        "Predicting the test results"
      ]
    },
    {
      "cell_type": "code",
      "metadata": {
        "id": "BNnIzgjEKFmk",
        "colab_type": "code",
        "colab": {}
      },
      "source": [
        "y_pred = ann.predict(X_test)\n",
        "#print(y_pred)\n",
        "y_pred = y_pred > 0.5\n",
        "print(np.concatenate((y_pred.reshape(len(y_pred),1), y_test.reshape(len(y_test),1)),1))"
      ],
      "execution_count": 39,
      "outputs": []
    },
    {
      "cell_type": "markdown",
      "metadata": {
        "id": "-LPQiMm1LYvc",
        "colab_type": "text"
      },
      "source": [
        "Confusion Matrix"
      ]
    },
    {
      "cell_type": "code",
      "metadata": {
        "id": "f91eA9q5LalS",
        "colab_type": "code",
        "colab": {
          "base_uri": "https://localhost:8080/",
          "height": 67
        },
        "outputId": "7c8d9413-cdb9-4b27-cdb2-84395f6ffb1a"
      },
      "source": [
        "from sklearn.metrics import confusion_matrix, accuracy_score\n",
        "cm = confusion_matrix(y_test, y_pred)\n",
        "print(cm)\n",
        "accuracy_score(y_test, y_pred)"
      ],
      "execution_count": 40,
      "outputs": [
        {
          "output_type": "stream",
          "text": [
            "[[1519   76]\n",
            " [ 197  208]]\n"
          ],
          "name": "stdout"
        },
        {
          "output_type": "execute_result",
          "data": {
            "text/plain": [
              "0.8635"
            ]
          },
          "metadata": {
            "tags": []
          },
          "execution_count": 40
        }
      ]
    }
  ]
}